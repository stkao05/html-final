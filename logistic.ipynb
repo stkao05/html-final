{
 "cells": [
  {
   "cell_type": "code",
   "execution_count": 2,
   "metadata": {},
   "outputs": [
    {
     "name": "stdout",
     "output_type": "stream",
     "text": [
      "accuracy: 0.57\n"
     ]
    },
    {
     "name": "stderr",
     "output_type": "stream",
     "text": [
      "/Users/stevenkao/miniconda3/envs/html-final/lib/python3.10/site-packages/sklearn/utils/validation.py:1339: DataConversionWarning: A column-vector y was passed when a 1d array was expected. Please change the shape of y to (n_samples, ), for example using ravel().\n",
      "  y = column_or_1d(y, warn=True)\n"
     ]
    }
   ],
   "source": [
    "import pandas as pd\n",
    "from sklearn.model_selection import train_test_split\n",
    "from sklearn.linear_model import LogisticRegression\n",
    "from sklearn.metrics import accuracy_score\n",
    "\n",
    "def load_and_process(csv_path, is_train=True):\n",
    "    drop_col = [\n",
    "        \"id\",\n",
    "        \"home_team_abbr\",\n",
    "        \"away_team_abbr\",\n",
    "        \"date\",\n",
    "        \"season\",\n",
    "        \"is_night_game\",\n",
    "        \"home_pitcher\",\n",
    "        \"away_pitcher\",\n",
    "        \"home_team_season\",\n",
    "        \"away_team_season\",\n",
    "    ]\n",
    "\n",
    "    if not is_train:\n",
    "        drop_col.remove(\"date\") # test set does not have this\n",
    "\n",
    "    df = pd.read_csv(csv_path)\n",
    "    df.drop(columns=drop_col, inplace=True)\n",
    "    feature_col = df.select_dtypes(include='float').columns.tolist()\n",
    "    data_x = df[feature_col]\n",
    "\n",
    "    if is_train:\n",
    "        data_y = df[['home_team_win']]\n",
    "        return data_x, data_y\n",
    "    else:\n",
    "        return data_x\n",
    "\n",
    "\n",
    "data_x, data_y = load_and_process(\"data_fill/train_data.csv\")\n",
    "train_x, valid_x, train_y, valid_y = train_test_split(data_x, data_y, test_size=0.2, random_state=42)\n",
    "model = LogisticRegression()\n",
    "model.fit(train_x, train_y)\n",
    "\n",
    "valid_y_pred = model.predict(valid_x)\n",
    "accuracy = accuracy_score(valid_y, valid_y_pred)\n",
    "print(f'accuracy: {accuracy:.2f}')"
   ]
  },
  {
   "cell_type": "code",
   "execution_count": null,
   "metadata": {},
   "outputs": [],
   "source": [
    "test_x = load_and_process(\"data_fill/task1_test_data.csv\", is_train=False)\n",
    "test_y_pred = model.predict(test_x)\n",
    "test_sub = pd.DataFrame({\n",
    "    'id': range(len(test_y_pred)),  # ID from 0 to len(predictions) - 1\n",
    "    'home_team_win': test_y_pred\n",
    "})\n",
    "test_sub.to_csv(\"logistic_task_1_submission.csv\", index=False)"
   ]
  }
 ],
 "metadata": {
  "kernelspec": {
   "display_name": "html-final",
   "language": "python",
   "name": "python3"
  },
  "language_info": {
   "codemirror_mode": {
    "name": "ipython",
    "version": 3
   },
   "file_extension": ".py",
   "mimetype": "text/x-python",
   "name": "python",
   "nbconvert_exporter": "python",
   "pygments_lexer": "ipython3",
   "version": "3.10.15"
  }
 },
 "nbformat": 4,
 "nbformat_minor": 2
}
